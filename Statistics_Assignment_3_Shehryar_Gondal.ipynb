{
 "cells": [
  {
   "cell_type": "markdown",
   "id": "5d145655",
   "metadata": {},
   "source": [
    "## Assignments Questions"
   ]
  },
  {
   "cell_type": "markdown",
   "id": "b9c0ff45",
   "metadata": {},
   "source": [
    "__Q1. What is the Probability density function?__\n",
    "\n",
    "__Ans)__ The Probability density function (PDF) is a mathematical function that describes the probability distribution of a continuous random variable. The PDF gives the probability of a particular value occurring within a certain range of values, rather than the probability of a specific value occurring.\n",
    "\n",
    "In other words, the PDF represents the relative likelihood of the random variable taking on different values within a given range. The total area under the PDF curve represents the total probability of all possible values occurring, which is equal to 1.\n",
    "\n",
    "The PDF is often used in statistics and probability theory to model and analyze the behavior of continuous random variables, such as the height or weight of a population, or the amount of rainfall in a particular region. It is also used to calculate the expected value, variance, and other statistical properties of the random variable."
   ]
  },
  {
   "cell_type": "markdown",
   "id": "afbb84c5",
   "metadata": {},
   "source": [
    "__Q2. What are the types of Probability distribution?__\n",
    "\n",
    "__Ans)__ There are several types of probability distributions, but some of the most common ones are:\n",
    "\n",
    "* __Normal distribution:__ also known as Gaussian distribution, it is the most common distribution used in statistics. It is a bell-shaped curve that is symmetrical and characterized by its mean and standard deviation.\n",
    "\n",
    "* __Binomial distribution:__ this distribution is used to model the probability of a certain number of successes in a fixed number of independent trials, where the outcome of each trial is either a success or a failure.\n",
    "\n",
    "* __Poisson distribution:__ this distribution is used to model the probability of a certain number of rare events occurring within a fixed interval of time or space.\n",
    "\n",
    "* __Exponential distribution:__ this distribution is used to model the time between events that occur at a constant rate, such as the time between customer arrivals at a service counter.\n",
    "\n",
    "* __Uniform distribution:__ this distribution is used to model the probability of a continuous random variable taking on any value within a specified range with equal likelihood.\n",
    "\n",
    "There are many other probability distributions, including the chi-squared distribution, the gamma distribution, and the beta distribution, each with its own specific properties and applications."
   ]
  },
  {
   "cell_type": "markdown",
   "id": "39c0f7f6",
   "metadata": {},
   "source": [
    "__Q3. Write a Python function to calculate the probability density function of a normal distribution with\n",
    "given mean and standard deviation at a given point?__"
   ]
  },
  {
   "cell_type": "code",
   "execution_count": 2,
   "id": "ea195a28",
   "metadata": {},
   "outputs": [
    {
     "name": "stdout",
     "output_type": "stream",
     "text": [
      "0.10934004978399577\n"
     ]
    }
   ],
   "source": [
    "import math\n",
    "\n",
    "def normal_pdf(x, mean, std_dev):\n",
    "    \"\"\"\n",
    "    Calculates the probability density function (PDF) of a normal distribution with\n",
    "    given mean and standard deviation at a given point.\n",
    "    \n",
    "    Arguments:\n",
    "    x -- the point at which to evaluate the PDF\n",
    "    mean -- the mean of the normal distribution\n",
    "    std_dev -- the standard deviation of the normal distribution\n",
    "    \n",
    "    Returns:\n",
    "    A float representing the PDF value at the given point.\n",
    "    \"\"\"\n",
    "    exponent = math.exp(-((x - mean) ** 2) / (2 * (std_dev ** 2)))\n",
    "    return (1 / (std_dev * math.sqrt(2 * math.pi))) * exponent\n",
    "\n",
    "pdf_value = normal_pdf(3, 5, 1.5)\n",
    "print(pdf_value)"
   ]
  },
  {
   "cell_type": "markdown",
   "id": "929a8753",
   "metadata": {},
   "source": [
    "__Q4. What are the properties of Binomial distribution? Give two examples of events where binomial\n",
    "distribution can be applied ?__\n",
    "\n",
    "__Ans)__ The properties of a binomial distribution are:\n",
    "\n",
    "1. The distribution represents the number of successes in a fixed number of independent trials, where the outcome of each trial is either a success or a failure.\n",
    "\n",
    "2. The probability of success is constant for each trial.\n",
    "\n",
    "3. The trials are independent of each other.\n",
    "\n",
    "4. The total number of trials is fixed.\n",
    "\n",
    "5. The distribution is discrete, meaning that it only takes on integer values.\n",
    "\n",
    "__Two examples of events where the binomial distribution can be applied are:__\n",
    "\n",
    "* __Flipping a coin:__ If you flip a coin multiple times, the probability of getting heads or tails is constant for each flip, and the outcome of each flip is independent of the other flips. The binomial distribution can be used to model the probability of getting a certain number of heads or tails in a fixed number of coin flips.\n",
    "\n",
    "* __Medical trials:__ In a clinical trial, patients are randomly assigned to receive either a treatment or a placebo. The outcome for each patient is either a success (they respond to the treatment) or a failure (they do not respond to the treatment). The binomial distribution can be used to model the probability of a certain number of successful outcomes (i.e., patients responding to the treatment) in a fixed number of patients in the trial."
   ]
  },
  {
   "cell_type": "markdown",
   "id": "44bd6bd6",
   "metadata": {},
   "source": [
    "__Q5. Generate a random sample of size 1000 from a binomial distribution with probability of success 0.4\n",
    "and plot a histogram of the results using matplotlib.?__"
   ]
  },
  {
   "cell_type": "code",
   "execution_count": 3,
   "id": "3a2a4a9b",
   "metadata": {},
   "outputs": [
    {
     "data": {
      "image/png": "[encoded data removed]",
      "text/plain": [
       "<Figure size 432x288 with 1 Axes>"
      ]
     },
     "metadata": {
      "needs_background": "light"
     },
     "output_type": "display_data"
    }
   ],
   "source": [
    "import numpy as np\n",
    "import matplotlib.pyplot as plt\n",
    "\n",
    "# Generate a random sample of size 1000 from a binomial distribution\n",
    "n = 1000\n",
    "p = 0.4\n",
    "sample = np.random.binomial(n, p, size=1000)\n",
    "\n",
    "# Plot a histogram of the results using matplotlib\n",
    "plt.hist(sample, bins=20, color='green', alpha=0.5)\n",
    "plt.title(\"Binomial Distribution Histogram\")\n",
    "plt.xlabel(\"Number of Successes\")\n",
    "plt.ylabel(\"Frequency\")\n",
    "plt.show()"
   ]
  },
  {
   "cell_type": "markdown",
   "id": "a2e0c7a9",
   "metadata": {},
   "source": [
    "__Q6. Write a Python function to calculate the cumulative distribution function of a Poisson distribution\n",
    "with given mean at a given point?__"
   ]
  },
  {
   "cell_type": "code",
   "execution_count": 4,
   "id": "b5a5bfdf",
   "metadata": {},
   "outputs": [
    {
     "name": "stdout",
     "output_type": "stream",
     "text": [
      "0.42319008112684353\n"
     ]
    }
   ],
   "source": [
    "import math\n",
    "\n",
    "def poisson_cdf(x, mean):\n",
    "    \"\"\"\n",
    "    Calculates the cumulative distribution function (CDF) of a Poisson distribution with\n",
    "    given mean at a given point.\n",
    "    \n",
    "    Arguments:\n",
    "    x -- the point at which to evaluate the CDF\n",
    "    mean -- the mean of the Poisson distribution\n",
    "    \n",
    "    Returns:\n",
    "    A float representing the CDF value at the given point.\n",
    "    \"\"\"\n",
    "    cdf = 0\n",
    "    for i in range(x+1):\n",
    "        cdf += (math.exp(-mean) * (mean ** i)) / math.factorial(i)\n",
    "    return cdf\n",
    "\n",
    "cdf_value = poisson_cdf(2, 3)\n",
    "print(cdf_value)"
   ]
  },
  {
   "cell_type": "markdown",
   "id": "0c161a19",
   "metadata": {},
   "source": [
    "__Q7. How Binomial distribution different from Poisson distribution?__\n",
    "\n",
    "__Ans)__ Binomial distribution and Poisson distribution are both probability distributions that are commonly used in statistical modeling. However, they differ in several ways:\n",
    "\n",
    "* __Number of Trials:__ The binomial distribution models the number of successes in a fixed number of independent trials, while the Poisson distribution models the number of events that occur in a fixed time interval.\n",
    "\n",
    "* __Probability of Success:__ In the binomial distribution, the probability of success is constant for each trial. In the Poisson distribution, the probability of an event occurring is constant for each time interval, but the number of events that occur can vary.\n",
    "\n",
    "* __Independence:__ In the binomial distribution, the trials are assumed to be independent of each other. In the Poisson distribution, events are assumed to occur independently of each other.\n",
    "\n",
    "* __Type of Outcome:__ The binomial distribution is discrete, meaning that it only takes on integer values. The Poisson distribution is also discrete, but it can take on any non-negative integer value.\n",
    "\n",
    "* __Assumptions:__ The binomial distribution assumes a fixed number of trials, and the probability of success is the same for each trial. The Poisson distribution assumes a constant rate of events, and events occur independently of each other.\n",
    "\n",
    "__In summary, the main difference between the binomial distribution and the Poisson distribution is that the binomial distribution models the number of successes in a fixed number of independent trials, while the Poisson distribution models the number of events that occur in a fixed time interval, assuming a constant rate of events.__"
   ]
  },
  {
   "cell_type": "markdown",
   "id": "c7b90c13",
   "metadata": {},
   "source": [
    "__Q8. Generate a random sample of size 1000 from a Poisson distribution with mean 5 and calculate the\n",
    "sample mean and variance?__"
   ]
  },
  {
   "cell_type": "code",
   "execution_count": 5,
   "id": "4d06b92e",
   "metadata": {},
   "outputs": [
    {
     "name": "stdout",
     "output_type": "stream",
     "text": [
      "Sample mean: 4.95\n",
      "Sample variance: 5.0195\n"
     ]
    }
   ],
   "source": [
    "import numpy as np\n",
    "\n",
    "# Generate a random sample of size 1000 from a Poisson distribution with mean 5\n",
    "sample = np.random.poisson(lam=5, size=1000)\n",
    "\n",
    "# Calculate the sample mean and variance\n",
    "sample_mean = np.mean(sample)\n",
    "sample_variance = np.var(sample)\n",
    "\n",
    "print(\"Sample mean:\", sample_mean)\n",
    "print(\"Sample variance:\", sample_variance)"
   ]
  },
  {
   "cell_type": "markdown",
   "id": "e86c454c",
   "metadata": {},
   "source": [
    "__Q9. How mean and variance are related in Binomial distribution and Poisson distribution?__\n",
    "\n",
    "__Ans)__ In both the binomial and Poisson distributions, the variance is a function of the mean. However, the relationship between the mean and variance is different in the two distributions. In the binomial distribution, the variance depends on both the mean and the probability of success, while in the Poisson distribution, the variance is equal to the mean.\n",
    "\n",
    "As a result, in the Poisson distribution, if the mean is known, then the variance is also known. In the binomial distribution, both the mean and variance depend on the number of trials and the probability of success in each trial."
   ]
  },
  {
   "cell_type": "markdown",
   "id": "707d2928",
   "metadata": {},
   "source": [
    "__Q10. In normal distribution with respect to mean position, where does the least frequent data appear?__\n",
    "\n",
    "__Ans)__"
   ]
  },
  {
   "cell_type": "markdown",
   "id": "ec69d82c",
   "metadata": {},
   "source": [
    "-------------------------------------------------------------------------------------------- __End__----------------------------------------------------------------------------------------------------------------"
   ]
  }
 ],
 "metadata": {
  "kernelspec": {
   "display_name": "Python 3 (ipykernel)",
   "language": "python",
   "name": "python3"
  },
  "language_info": {
   "codemirror_mode": {
    "name": "ipython",
    "version": 3
   },
   "file_extension": ".py",
   "mimetype": "text/x-python",
   "name": "python",
   "nbconvert_exporter": "python",
   "pygments_lexer": "ipython3",
   "version": "3.9.12"
  },
  "varInspector": {
   "cols": {
    "lenName": 16,
    "lenType": 16,
    "lenVar": 40
   },
   "kernels_config": {
    "python": {
     "delete_cmd_postfix": "",
     "delete_cmd_prefix": "del ",
     "library": "var_list.py",
     "varRefreshCmd": "print(var_dic_list())"
    },
    "r": {
     "delete_cmd_postfix": ") ",
     "delete_cmd_prefix": "rm(",
     "library": "var_list.r",
     "varRefreshCmd": "cat(var_dic_list()) "
    }
   },
   "types_to_exclude": [
    "module",
    "function",
    "builtin_function_or_method",
    "instance",
    "_Feature"
   ],
   "window_display": false
  }
 },
 "nbformat": 4,
 "nbformat_minor": 5
}
